{
 "cells": [
  {
   "cell_type": "code",
   "execution_count": null,
   "metadata": {},
   "outputs": [],
   "source": [
    "配置 texlive2020 的时候发现参考文献如果 bib 文件中有重复就会编译不通过，而这个需要读blg文件才能发现，我在写毕业论文的时候又喜欢把之前用latex写的论文的bib直接粘贴到一起，显然会有重复的问题，所以就写了一个去重的python小程序，把有重复的条目摘出来，用notepad搜索删除就行（所以没有统计重复次数）"
   ]
  },
  {
   "cell_type": "code",
   "execution_count": 2,
   "metadata": {},
   "outputs": [
    {
     "name": "stdout",
     "output_type": "stream",
     "text": [
      "['lamb2014evaluation', 'liu2019safety', 'li2018comparative', 'chen2019dynamic', 'Zhu2018A', 'lai2014mechanical', 'lai2014mechanical']\n"
     ]
    }
   ],
   "source": [
    "f=open(\"refs.bib\",\"r\",encoding='utf-8')\n",
    "#查看多少行\n",
    "citations=[]\n",
    "for line in f:\n",
    "\tbegin=line.find('@')\n",
    "\tif begin == 0:\n",
    "\t\tbegin_ = line.find('{')\n",
    "\t\tend = line.find(',')\n",
    "\t\tcitations.append(line[begin_+1:end])\n",
    "\n",
    "#print(citations)\n",
    "\n",
    "repeat=[]\n",
    "\n",
    "news_citations = []\n",
    "for citation in citations:\n",
    "    if citation not in news_citations:\n",
    "        news_citations.append(citation)\n",
    "    else:\n",
    "        repeat.append(citation)\n",
    "\n",
    "print(repeat)\n"
   ]
  },
  {
   "cell_type": "markdown",
   "metadata": {},
   "source": [
    "当然，最好一直使用同一个学术搜索引擎，这样同一篇文献对应的这个 key 就是一致的"
   ]
  },
  {
   "cell_type": "code",
   "execution_count": null,
   "metadata": {},
   "outputs": [],
   "source": []
  }
 ],
 "metadata": {
  "kernelspec": {
   "display_name": "Python 3",
   "language": "python",
   "name": "python3"
  },
  "language_info": {
   "codemirror_mode": {
    "name": "ipython",
    "version": 3
   },
   "file_extension": ".py",
   "mimetype": "text/x-python",
   "name": "python",
   "nbconvert_exporter": "python",
   "pygments_lexer": "ipython3",
   "version": "3.6.10"
  }
 },
 "nbformat": 4,
 "nbformat_minor": 2
}
